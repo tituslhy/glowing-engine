{
 "cells": [
  {
   "cell_type": "code",
   "execution_count": 1,
   "id": "a119a3ec",
   "metadata": {},
   "outputs": [],
   "source": [
    "%load_ext autoreload\n",
    "%autoreload 2"
   ]
  },
  {
   "cell_type": "code",
   "execution_count": 2,
   "id": "13008d6f",
   "metadata": {},
   "outputs": [],
   "source": [
    "import yfinance as yf\n",
    "from sqlalchemy import (\n",
    "    create_engine,\n",
    "    MetaData,\n",
    "    Table,\n",
    "    Column,\n",
    "    Float,\n",
    "    DateTime,\n",
    "    Integer\n",
    ")\n",
    "import sqlite3"
   ]
  },
  {
   "cell_type": "markdown",
   "id": "edf98710",
   "metadata": {},
   "source": [
    "## Create a helper function to insert data\n",
    "`yfinance` has evolved to be able to download multiple tickers at a time but it becomes a nested multi-index dataframe. I prefer to download data for different tickers individually."
   ]
  },
  {
   "cell_type": "code",
   "execution_count": 3,
   "id": "9d95c55f",
   "metadata": {},
   "outputs": [],
   "source": [
    "def insert_data(\n",
    "    db_path: str,\n",
    "    ticker: str,\n",
    "    date_start: str,\n",
    "    date_end: str,\n",
    ") -> None:\n",
    "    \"\"\"Function to insert data into a SQLite  database.\"\"\"\n",
    "    \n",
    "    try:\n",
    "        data = yf.download(\"ILMN\", start=date_start, end=date_end, group_by=\"ticker\")\n",
    "    except Exception as e:\n",
    "        raise e\n",
    "    data = data.xs(\"ILMN\", axis=1, level=\"Ticker\")\n",
    "    data = data.reset_index()\n",
    "    engine = create_engine(f\"sqlite:///{db_path}\")\n",
    "    metadata_obj = MetaData()\n",
    "    table = Table(\n",
    "        ticker.lower(),\n",
    "        metadata_obj,\n",
    "        Column(\"id\", Integer, primary_key=True),\n",
    "        Column(\"date\", DateTime),\n",
    "        Column(\"open\", Float),\n",
    "        Column(\"high\", Float),\n",
    "        Column(\"low\", Float),\n",
    "        Column(\"close\", Float),\n",
    "        Column(\"volume\", Integer),\n",
    "    )\n",
    "    metadata_obj.create_all(engine)\n",
    "    conn = sqlite3.connect(db_path)\n",
    "    data.to_sql(\n",
    "        ticker.lower(),\n",
    "        conn,\n",
    "        if_exists='append',\n",
    "        index=False\n",
    "    )\n",
    "    print(f\"Ticker {ticker} added to database\")"
   ]
  },
  {
   "cell_type": "code",
   "execution_count": 4,
   "id": "54b2a34f",
   "metadata": {},
   "outputs": [],
   "source": [
    "from datetime import datetime\n",
    "from tqdm.notebook import tqdm\n",
    "\n",
    "today = datetime.today().strftime(\"%Y-%m-%d\")"
   ]
  },
  {
   "cell_type": "code",
   "execution_count": 5,
   "id": "a778f588",
   "metadata": {},
   "outputs": [],
   "source": [
    "import os\n",
    "\n",
    "if not os.path.exists(\"../database\"):\n",
    "    os.makedirs(\"../database\")"
   ]
  },
  {
   "cell_type": "code",
   "execution_count": 6,
   "id": "d4cd53e6",
   "metadata": {},
   "outputs": [
    {
     "data": {
      "application/vnd.jupyter.widget-view+json": {
       "model_id": "54720d4654334d91871c92ddab2aa81b",
       "version_major": 2,
       "version_minor": 0
      },
      "text/plain": [
       "  0%|          | 0/3 [00:00<?, ?it/s]"
      ]
     },
     "metadata": {},
     "output_type": "display_data"
    },
    {
     "name": "stderr",
     "output_type": "stream",
     "text": [
      "/tmp/ipykernel_1539238/918984288.py:10: FutureWarning: YF.download() has changed argument auto_adjust default to True\n",
      "  data = yf.download(\"ILMN\", start=date_start, end=date_end, group_by=\"ticker\")\n",
      "[*********************100%***********************]  1 of 1 completed"
     ]
    },
    {
     "name": "stderr",
     "output_type": "stream",
     "text": [
      "\n",
      "/tmp/ipykernel_1539238/918984288.py:10: FutureWarning: YF.download() has changed argument auto_adjust default to True\n",
      "  data = yf.download(\"ILMN\", start=date_start, end=date_end, group_by=\"ticker\")\n",
      "[*********************100%***********************]  1 of 1 completed\n",
      "/tmp/ipykernel_1539238/918984288.py:10: FutureWarning: YF.download() has changed argument auto_adjust default to True\n",
      "  data = yf.download(\"ILMN\", start=date_start, end=date_end, group_by=\"ticker\")\n",
      "[*********************100%***********************]  1 of 1 completed"
     ]
    },
    {
     "name": "stdout",
     "output_type": "stream",
     "text": [
      "Ticker ILMN added to database\n",
      "Ticker AAPL added to database\n",
      "Ticker NVDA added to database\n"
     ]
    },
    {
     "name": "stderr",
     "output_type": "stream",
     "text": [
      "\n"
     ]
    }
   ],
   "source": [
    "for ticker in tqdm([\"ILMN\", \"AAPL\", \"NVDA\"]):\n",
    "    insert_data(\n",
    "        db_path = \"../database/stocks.db\",\n",
    "        ticker=ticker,\n",
    "        date_start=\"2020-01-01\",\n",
    "        date_end=today\n",
    "    )"
   ]
  },
  {
   "cell_type": "markdown",
   "id": "9f8e4267",
   "metadata": {},
   "source": [
    "And now we've ingested the data into our database!"
   ]
  }
 ],
 "metadata": {
  "kernelspec": {
   "display_name": ".venv",
   "language": "python",
   "name": "python3"
  },
  "language_info": {
   "codemirror_mode": {
    "name": "ipython",
    "version": 3
   },
   "file_extension": ".py",
   "mimetype": "text/x-python",
   "name": "python",
   "nbconvert_exporter": "python",
   "pygments_lexer": "ipython3",
   "version": "3.12.8"
  }
 },
 "nbformat": 4,
 "nbformat_minor": 5
}
